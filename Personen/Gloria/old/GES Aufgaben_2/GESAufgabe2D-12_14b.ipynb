{
 "cells": [
  {
   "cell_type": "code",
   "execution_count": 15,
   "metadata": {},
   "outputs": [],
   "source": [
    "TT='''\n",
    " 1.4b)\n",
    "Die EnEV schreibt bei Renovierungsarbeiten von einzelnen Bauteilen für Außenwände an Außenluft einen zulassigen U-Wert von\n",
    "U_zul = O.28 W/m^2/K vor.\n",
    "Ermitteln Sie für die dargestellte Außenwand die erforderliche Wärmeleitfähigkeit der Dåmmung in W/(mK) zur Einhaltung dieser\n",
    "Vorgabe. Runden Sie benötigte Zwischenergebnisse sowie das Endergebnis auf zwei Nachkommastenen\n",
    "\n",
    " Position\n",
    " Wärmeübergangswiderstand innen  R_i = 0.13 m^2*K/W\n",
    " A) Gipsputz s_A  = 0.02 m       lambda_A = 0.35 W/m/K\n",
    " B) Kalksandstein s_B = 0.30 m   lambda_B = 0.7 W/m/K\n",
    " C) Mineralwolle   s_C = 0.15 m  lambda_C = ?\n",
    " D) Kunstharzputz s_D = 0.01 m  lambda_D = 0.7 W/K/m\n",
    " Wärmeübergangswiderstand aussen  R_a = 0.04 m^2*K/W\n",
    "\n",
    " '''\n",
    "TLoes = '''\n",
    "\n",
    " U = 1/(R_i + s_A/lambda_A+ s_B/lambda_B+ s_C/lambda_C+ s_D/lambda_D+R_a) \n",
    "\n",
    " nach lambda_C auflösen:\n",
    "\n",
    " (R_i + s_A/lambda_A+ s_B/lambda_B+ s_C/lambda_C+ s_D/lambda_D+R_a) = 1/U\n",
    " s_C/lambda_C = 1/U - R_i - s_A/lambda_A - s_B/lambda_B - s_D/lambda_D - R_a\n",
    " lambda_C = s_C / (1/U - R_i - s_A/lambda_A - s_B/lambda_B - s_D/lambda_D - R_a)\n",
    "'''\n",
    "\n",
    "R_i = 0.13\n",
    "R_a = 0.04\n",
    "s_A = 0.02\n",
    "lambda_A = 0.35\n",
    "s_B = 0.3\n",
    "lambda_B = 0.7\n",
    "s_C = 0.15\n",
    "s_D = 0.01\n",
    "lambda_D = 0.7\n",
    "\n",
    "U_zul = 0.28\n",
    "\n",
    "lambda_C = s_C / (1/U_zul - R_i - s_A/lambda_A - s_B/lambda_B - s_D/lambda_D - R_a)\n",
    "\n"
   ]
  },
  {
   "cell_type": "code",
   "execution_count": 16,
   "metadata": {},
   "outputs": [
    {
     "name": "stdout",
     "output_type": "stream",
     "text": [
      "--------------------------------------------------------------------------\n",
      "\n",
      " 1.4b)\n",
      "Die EnEV schreibt bei Renovierungsarbeiten von einzelnen Bauteilen für Außenwände an Außenluft einen zulassigen U-Wert von\n",
      "U_zul = O.28 W/m^2/K vor.\n",
      "Ermitteln Sie für die dargestellte Außenwand die erforderliche Wärmeleitfähigkeit der Dåmmung in W/(mK) zur Einhaltung dieser\n",
      "Vorgabe. Runden Sie benötigte Zwischenergebnisse sowie das Endergebnis auf zwei Nachkommastenen\n",
      "\n",
      " Position\n",
      " Wärmeübergangswiderstand innen  R_i = 0.13 m^2*K/W\n",
      " A) Gipsputz s_A  = 0.02 m       lambda_A = 0.35 W/m/K\n",
      " B) Kalksandstein s_B = 0.30 m   lambda_B = 0.7 W/m/K\n",
      " C) Mineralwolle   s_C = 0.15 m  lambda_C = ?\n",
      " D) Kunstharzputz s_D = 0.01 m  lambda_D = 0.7 W/K/m\n",
      " Wärmeübergangswiderstand aussen  R_a = 0.04 m^2*K/W\n",
      "\n",
      " \n"
     ]
    }
   ],
   "source": [
    "print(\"--------------------------------------------------------------------------\")\n",
    "print(f\"{TT}\")\n"
   ]
  },
  {
   "cell_type": "code",
   "execution_count": 17,
   "metadata": {},
   "outputs": [
    {
     "name": "stdout",
     "output_type": "stream",
     "text": [
      "\n",
      "\n",
      " U = 1/(R_i + s_A/lambda_A+ s_B/lambda_B+ s_C/lambda_C+ s_D/lambda_D+R_a) \n",
      "\n",
      " nach lambda_C auflösen:\n",
      "\n",
      " (R_i + s_A/lambda_A+ s_B/lambda_B+ s_C/lambda_C+ s_D/lambda_D+R_a) = 1/U\n",
      " s_C/lambda_C = 1/U - R_i - s_A/lambda_A - s_B/lambda_B - s_D/lambda_D - R_a\n",
      " lambda_C = s_C / (1/U - R_i - s_A/lambda_A - s_B/lambda_B - s_D/lambda_D - R_a)\n",
      "\n",
      "--------------------------------------------------------------------------\n"
     ]
    }
   ],
   "source": [
    "print(f\"{TLoes}\")\n",
    "print(\"--------------------------------------------------------------------------\")\n"
   ]
  },
  {
   "cell_type": "code",
   "execution_count": 18,
   "metadata": {},
   "outputs": [
    {
     "name": "stdout",
     "output_type": "stream",
     "text": [
      "--------------------------------------------------------------------------\n",
      "R_i        = 0.13 m^2*K/W\n",
      "R_a        = 0.04 m^2*K/W\n",
      "s_A        = 0.02 m\n",
      "lambda_A   = 0.35 W/K/m\n",
      "s_B        = 0.3 m\n",
      "lambda_B   = 0.7 W/K/m\n",
      "s_C        = 0.15 m\n",
      "s_D        = 0.01 m\n",
      "lambda_D   = 0.7 W/K/m\n",
      "U_zul      = 0.28 m^2*K/W\n",
      "--------------------------------------------------------------------------\n",
      "lambda_C   = 0.051698670605613 W/K/m\n",
      "lambda_C   = 0.05 W/K/m\n",
      "--------------------------------------------------------------------------\n"
     ]
    }
   ],
   "source": [
    "print(\"--------------------------------------------------------------------------\")\n",
    "print(f\"R_i        = {R_i} m^2*K/W\")\n",
    "print(f\"R_a        = {R_a} m^2*K/W\")\n",
    "print(f\"s_A        = {s_A} m\")\n",
    "print(f\"lambda_A   = {lambda_A} W/K/m\")\n",
    "print(f\"s_B        = {s_B} m\")\n",
    "print(f\"lambda_B   = {lambda_B} W/K/m\")\n",
    "print(f\"s_C        = {s_C} m\")\n",
    "print(f\"s_D        = {s_D} m\")\n",
    "print(f\"lambda_D   = {lambda_D} W/K/m\")\n",
    "print(f\"U_zul      = {U_zul} m^2*K/W\")\n",
    "print(\"--------------------------------------------------------------------------\")\n",
    "print(f\"lambda_C   = {lambda_C} W/K/m\")\n",
    "print(f\"lambda_C   = {round(lambda_C*100)/100.} W/K/m\")\n",
    "print(\"--------------------------------------------------------------------------\")\n"
   ]
  }
 ],
 "metadata": {
  "interpreter": {
   "hash": "63fd5069d213b44bf678585dea6b12cceca9941eaf7f819626cde1f2670de90d"
  },
  "kernelspec": {
   "display_name": "Python 3.9.5 64-bit",
   "language": "python",
   "name": "python3"
  },
  "language_info": {
   "codemirror_mode": {
    "name": "ipython",
    "version": 3
   },
   "file_extension": ".py",
   "mimetype": "text/x-python",
   "name": "python",
   "nbconvert_exporter": "python",
   "pygments_lexer": "ipython3",
   "version": "3.9.5"
  },
  "orig_nbformat": 4
 },
 "nbformat": 4,
 "nbformat_minor": 2
}
