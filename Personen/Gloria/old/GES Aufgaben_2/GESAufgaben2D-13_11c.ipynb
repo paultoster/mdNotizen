{
 "cells": [
  {
   "cell_type": "code",
   "execution_count": 4,
   "metadata": {},
   "outputs": [
    {
     "name": "stdout",
     "output_type": "stream",
     "text": [
      "--------------------------------------------------------------------------\n",
      "\n",
      "1.1c)\n",
      "Berechnen Sie den Wärmedurchlasswiderstand des Baustoffes und tragen Si\n",
      "Runden Sie benötigte Zwischenergebnisse sowie das Endergebnis auf zwei\n",
      "\n",
      "gegeben: s      = 0,13 m\n",
      "gegeben: lambda = 0,68 W/K/m\n",
      "\n",
      "\n",
      "--------------------------------------------------------------------------\n",
      "--------------------------------------------------------------------------\n",
      "s          = 0.13 m\n",
      "lambda     = 0.68 W/K/m\n",
      "--------------------------------------------------------------------------\n",
      "R          = 0.19117647058823528 m^2*K/W\n",
      "R          = 0.19 m^2*K/W\n",
      "--------------------------------------------------------------------------\n"
     ]
    }
   ],
   "source": [
    "TT=\"\"\"\n",
    "1.1c)\n",
    "Berechnen Sie den Wärmedurchlasswiderstand des Baustoffes und tragen Si\n",
    "Runden Sie benötigte Zwischenergebnisse sowie das Endergebnis auf zwei\n",
    "\n",
    "gegeben: s      = 0,13 m\n",
    "gegeben: lambda = 0,68 W/K/m\n",
    "\n",
    "\"\"\"\n",
    "\n",
    "s = 0.13\n",
    "lamb = 0.68\n",
    "\n",
    "R = s/lamb\n",
    "\n",
    "\n"
   ]
  },
  {
   "cell_type": "code",
   "execution_count": 5,
   "metadata": {},
   "outputs": [
    {
     "name": "stdout",
     "output_type": "stream",
     "text": [
      "--------------------------------------------------------------------------\n",
      "\n",
      "1.1c)\n",
      "Berechnen Sie den Wärmedurchlasswiderstand des Baustoffes und tragen Si\n",
      "Runden Sie benötigte Zwischenergebnisse sowie das Endergebnis auf zwei\n",
      "\n",
      "gegeben: s      = 0,13 m\n",
      "gegeben: lambda = 0,68 W/K/m\n",
      "\n",
      "\n",
      "--------------------------------------------------------------------------\n",
      "--------------------------------------------------------------------------\n",
      "s          = 0.13 m\n",
      "lambda     = 0.68 W/K/m\n",
      "--------------------------------------------------------------------------\n",
      "R          = 0.19117647058823528 m^2*K/W\n",
      "--------------------------------------------------------------------------\n"
     ]
    }
   ],
   "source": [
    "\n",
    "\n",
    "print(\"--------------------------------------------------------------------------\")\n",
    "print(f\"{TT}\")\n",
    "print(\"--------------------------------------------------------------------------\")\n",
    "print(\"--------------------------------------------------------------------------\")\n",
    "print(f\"s          = {s} m\")\n",
    "print(f\"lambda     = {lamb} W/K/m\")\n",
    "print(\"--------------------------------------------------------------------------\")\n",
    "print(f\"R          = {R} m^2*K/W\")\n",
    "print(f\"R          = {round(R*100.)/100.} m^2*K/W\")\n",
    "print(\"--------------------------------------------------------------------------\")\n"
   ]
  }
 ],
 "metadata": {
  "interpreter": {
   "hash": "63fd5069d213b44bf678585dea6b12cceca9941eaf7f819626cde1f2670de90d"
  },
  "kernelspec": {
   "display_name": "Python 3.9.5 64-bit",
   "language": "python",
   "name": "python3"
  },
  "language_info": {
   "codemirror_mode": {
    "name": "ipython",
    "version": 3
   },
   "file_extension": ".py",
   "mimetype": "text/x-python",
   "name": "python",
   "nbconvert_exporter": "python",
   "pygments_lexer": "ipython3",
   "version": "3.9.5"
  },
  "orig_nbformat": 4
 },
 "nbformat": 4,
 "nbformat_minor": 2
}
