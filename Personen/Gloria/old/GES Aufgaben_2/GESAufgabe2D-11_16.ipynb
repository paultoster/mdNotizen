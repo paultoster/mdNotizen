{
 "cells": [
  {
   "cell_type": "code",
   "execution_count": 37,
   "metadata": {},
   "outputs": [],
   "source": [
    "TT='''\n",
    " Aufgabe  1.6)\n",
    " Folgender Wandaufbau ist in der Tabelle gegeben. Die Wärmeübergangswiderstände\n",
    " aufgrund des inneren und äußeren Wärmeübergangs zur Wand betragen R_i = 0.13 m^2*K/W\n",
    " R_a = 0.04 m^2*K/W\n",
    " Welche Dicke in Metern muss die Dämmschicht mindestens aufweisen, damit der\n",
    " Wärmedurchgangskoeffizient U einen Wert von 0.41 m^2*K/W  nicht überschreitet\n",
    "\n",
    " Position\n",
    " Wärmeübergangswiderstand innen  R_i 0.13 m^2*K/W\n",
    " A) Innenputz s_A = 0.015 m  lambda_A = 0.87 W/m/K\n",
    " B) Mauerwerk s_B = 0.250 m  lambda_B = 2.4 W/m/K\n",
    " C) Dämmung   s_C = ?        lambda_C = 0.035 W/m/K\n",
    " D) Außenputz s_D = 0.015 m  lambda_D = 0.87 W/K/m\n",
    " Wärmeübergangswiderstand aussen  R_a 0.04 m^2*K/W\n",
    "\n",
    " Geben Sie den Wert in Metern auf zwei Nachkommastellen gerundet an. Runden Sie\n",
    " benötigte Zwischenergebnisse ebenfalls auf zwei Nachkommastellen.\n",
    "'''\n",
    "TLoes = '''\n",
    "\n",
    " U = 1/(R_i + s_A/lambda_A+ s_B/lambda_B+ s_C/lambda_C+ s_D/lambda_D+R_a) \n",
    "\n",
    " nach s_C auflösen:\n",
    "\n",
    " (R_i + s_A/lambda_A+ s_B/lambda_B+ s_C/lambda_C+ s_D/lambda_D+R_a) = 1/U\n",
    " s_C/lambda_C = 1/U - R_i - s_A/lambda_A - s_B/lambda_B - s_D/lambda_D - R_a\n",
    " s_C = lambda_C * (1/U - R_i - s_A/lambda_A - s_B/lambda_B - s_D/lambda_D - R_a)\n",
    "'''\n",
    "\n",
    "R_i = 0.13\n",
    "R_a = 0.04\n",
    "s_A = 0.015\n",
    "lambda_A = 0.87\n",
    "s_B = 0.250\n",
    "lambda_B = 2.4\n",
    "lambda_C = 0.035\n",
    "s_D = 0.015\n",
    "lambda_D = 0.87\n",
    "\n",
    "U_grenz = 0.41\n",
    "\n",
    "s_C = lambda_C * (1/U_grenz - R_i - s_A/lambda_A - s_B/lambda_B - s_D/lambda_D - R_a)\n",
    "\n"
   ]
  },
  {
   "cell_type": "code",
   "execution_count": 38,
   "metadata": {},
   "outputs": [
    {
     "name": "stdout",
     "output_type": "stream",
     "text": [
      "--------------------------------------------------------------------------\n",
      "\n",
      " Aufgabe  1.6)\n",
      " Folgender Wandaufbau ist in der Tabelle gegeben. Die Wärmeübergangswiderstände\n",
      " aufgrund des inneren und äußeren Wärmeübergangs zur Wand betragen R_i = 0.13 m^2*K/W\n",
      " R_a = 0.04 m^2*K/W\n",
      " Welche Dicke in Metern muss die Dämmschicht mindestens aufweisen, damit der\n",
      " Wärmedurchgangskoeffizient U einen Wert von 0.41 m^2*K/W  nicht überschreitet\n",
      "\n",
      " Position\n",
      " Wärmeübergangswiderstand innen  R_i 0.13 m^2*K/W\n",
      " A) Innenputz s_A = 0.015 m  lambda_A = 0.87 W/m/K\n",
      " B) Mauerwerk s_B = 0.250 m  lambda_B = 2.4 W/m/K\n",
      " C) Dämmung   s_C = ?        lambda_C = 0.035 W/m/K\n",
      " D) Außenputz s_D = 0.015 m  lambda_D = 0.87 W/K/m\n",
      " Wärmeübergangswiderstand aussen  R_a 0.04 m^2*K/W\n",
      "\n",
      " Geben Sie den Wert in Metern auf zwei Nachkommastellen gerundet an. Runden Sie\n",
      " benötigte Zwischenergebnisse ebenfalls auf zwei Nachkommastellen.\n",
      "\n"
     ]
    }
   ],
   "source": [
    "print(\"--------------------------------------------------------------------------\")\n",
    "print(f\"{TT}\")\n"
   ]
  },
  {
   "cell_type": "code",
   "execution_count": 39,
   "metadata": {},
   "outputs": [
    {
     "name": "stdout",
     "output_type": "stream",
     "text": [
      "\n",
      "\n",
      " U = 1/(R_i + s_A/lambda_A+ s_B/lambda_B+ s_C/lambda_C+ s_D/lambda_D+R_a) \n",
      "\n",
      " nach s_C auflösen:\n",
      "\n",
      " (R_i + s_A/lambda_A+ s_B/lambda_B+ s_C/lambda_C+ s_D/lambda_D+R_a) = 1/U\n",
      " s_C/lambda_C = 1/U - R_i - s_A/lambda_A - s_B/lambda_B - s_D/lambda_D - R_a\n",
      " s_C = lambda_C * (1/U - R_i - s_A/lambda_A - s_B/lambda_B - s_D/lambda_D - R_a)\n",
      "\n",
      "--------------------------------------------------------------------------\n"
     ]
    }
   ],
   "source": [
    "print(f\"{TLoes}\")\n",
    "print(\"--------------------------------------------------------------------------\")\n"
   ]
  },
  {
   "cell_type": "code",
   "execution_count": 40,
   "metadata": {},
   "outputs": [
    {
     "name": "stdout",
     "output_type": "stream",
     "text": [
      "--------------------------------------------------------------------------\n",
      "R_i        = 0.13 m^2*K/W\n",
      "R_a        = 0.04 m^2*K/W\n",
      "s_A        = 0.015 m\n",
      "lambda_A   = 0.87 W/K/m\n",
      "s_B        = 0.25 m\n",
      "lambda_B   = 2.4 W/K/m\n",
      "lambda_C   = 0.035 W/K/m\n",
      "s_D        = 0.015 m\n",
      "lambda_D   = 0.87 W/K/m\n",
      "U_grenz    = 0.41 m^2*K/W\n",
      "--------------------------------------------------------------------------\n",
      "s_C        = 0.07456312377347914 m\n",
      "s_C        = 0.07 m\n",
      "--------------------------------------------------------------------------\n"
     ]
    }
   ],
   "source": [
    "print(\"--------------------------------------------------------------------------\")\n",
    "print(f\"R_i        = {R_i} m^2*K/W\")\n",
    "print(f\"R_a        = {R_a} m^2*K/W\")\n",
    "print(f\"s_A        = {s_A} m\")\n",
    "print(f\"lambda_A   = {lambda_A} W/K/m\")\n",
    "print(f\"s_B        = {s_B} m\")\n",
    "print(f\"lambda_B   = {lambda_B} W/K/m\")\n",
    "print(f\"lambda_C   = {lambda_C} W/K/m\")\n",
    "print(f\"s_D        = {s_D} m\")\n",
    "print(f\"lambda_D   = {lambda_D} W/K/m\")\n",
    "print(f\"U_grenz    = {U_grenz} m^2*K/W\")\n",
    "print(\"--------------------------------------------------------------------------\")\n",
    "print(f\"s_C        = {s_C} m\")\n",
    "print(f\"s_C        = {round(s_C * 100)/100.} m\")\n",
    "print(\"--------------------------------------------------------------------------\")\n"
   ]
  }
 ],
 "metadata": {
  "interpreter": {
   "hash": "63fd5069d213b44bf678585dea6b12cceca9941eaf7f819626cde1f2670de90d"
  },
  "kernelspec": {
   "display_name": "Python 3.9.5 64-bit",
   "language": "python",
   "name": "python3"
  },
  "language_info": {
   "codemirror_mode": {
    "name": "ipython",
    "version": 3
   },
   "file_extension": ".py",
   "mimetype": "text/x-python",
   "name": "python",
   "nbconvert_exporter": "python",
   "pygments_lexer": "ipython3",
   "version": "3.9.5"
  },
  "orig_nbformat": 4
 },
 "nbformat": 4,
 "nbformat_minor": 2
}
